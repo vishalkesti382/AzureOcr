{
 "cells": [
  {
   "cell_type": "code",
   "execution_count": null,
   "metadata": {},
   "outputs": [],
   "source": [
    "from azure.cognitiveservices.vision.computervision import ComputerVisionClient\n",
    "# from azure.cognitiveservices.vision.computervision.models import OperationStatusCodes\n",
    "from azure.cognitiveservices.vision.computervision.models import VisualFeatureTypes\n",
    "from msrest.authentication import CognitiveServicesCredentials\n",
    "\n",
    "from array import array\n",
    "import os\n",
    "from PIL import Image\n",
    "import sys\n",
    "import time"
   ]
  },
  {
   "cell_type": "code",
   "execution_count": 2,
   "metadata": {},
   "outputs": [],
   "source": [
    "subscription_key = \"5bbff59395264a04ae8594b1c8448c6b\"\n",
    "endpoint = \"https://vishalocrtest.cognitiveservices.azure.com/\""
   ]
  },
  {
   "cell_type": "code",
   "execution_count": 3,
   "metadata": {},
   "outputs": [],
   "source": [
    "computervision_client = ComputerVisionClient(endpoint, CognitiveServicesCredentials(subscription_key))"
   ]
  },
  {
   "cell_type": "code",
   "execution_count": 4,
   "metadata": {},
   "outputs": [],
   "source": [
    "remote_image_url = \"https://raw.githubusercontent.com/Azure-Samples/cognitive-services-sample-data-files/master/ComputerVision/Images/landmark.jpg\""
   ]
  },
  {
   "cell_type": "code",
   "execution_count": 5,
   "metadata": {},
   "outputs": [
    {
     "name": "stdout",
     "output_type": "stream",
     "text": [
      "===== Describe an image - remote =====\n",
      "Description of remote image: \n",
      "'a large stone structure with many arches with Colosseum in the background' with confidence 26.39%\n"
     ]
    }
   ],
   "source": [
    "'''\n",
    "Describe an Image - remote\n",
    "This example describes the contents of an image with the confidence score.\n",
    "'''\n",
    "print(\"===== Describe an image - remote =====\")\n",
    "# Call API\n",
    "description_results = computervision_client.describe_image(remote_image_url )\n",
    "\n",
    "# Get the captions (descriptions) from the response, with confidence level\n",
    "print(\"Description of remote image: \")\n",
    "if (len(description_results.captions) == 0):\n",
    "    print(\"No description detected.\")\n",
    "else:\n",
    "    for caption in description_results.captions:\n",
    "        print(\"'{}' with confidence {:.2f}%\".format(caption.text, caption.confidence * 100))"
   ]
  },
  {
   "cell_type": "code",
   "execution_count": null,
   "metadata": {},
   "outputs": [],
   "source": [
    "image_loc = \"resources\\\\Ex10.jpg\"\n",
    "local_image = open(image_loc, \"rb\")"
   ]
  },
  {
   "cell_type": "code",
   "execution_count": null,
   "metadata": {},
   "outputs": [],
   "source": [
    "# Call API with URL and raw response (allows you to get the operation location)\n",
    "description_result = computervision_client.describe_image_in_stream(local_image)"
   ]
  },
  {
   "cell_type": "code",
   "execution_count": null,
   "metadata": {},
   "outputs": [],
   "source": [
    "# Get the captions (descriptions) from the response, with confidence level\n",
    "print(\"Description of local image: \")\n",
    "if (len(description_result.captions) == 0):\n",
    "    print(\"No description detected.\")\n",
    "else:\n",
    "    for caption in description_result.captions:\n",
    "        print(\"'{}' with confidence {:.2f}%\".format(caption.text, caption.confidence * 100))\n",
    "print()"
   ]
  },
  {
   "cell_type": "code",
   "execution_count": null,
   "metadata": {},
   "outputs": [],
   "source": [
    "print(\"===== Batch Read File - local =====\")\n",
    "# Get image of handwriting\n",
    "local_image_handwritten_path = \"resources\\\\Ex10.jpg\"\n",
    "# Open the image\n",
    "local_image_handwritten = open(local_image_handwritten_path, \"rb\")\n",
    "\n",
    "# Call API with image and raw response (allows you to get the operation location)\n",
    "recognize_handwriting_results = computervision_client.batch_read_file_in_stream(local_image_handwritten, raw=True)\n",
    "# Get the operation location (URL with ID as last appendage)\n",
    "operation_location_local = recognize_handwriting_results.headers[\"Operation-Location\"]\n",
    "# Take the ID off and use to get results\n",
    "operation_id_local = operation_location_local.split(\"/\")[-1]\n",
    "\n",
    "# Call the \"GET\" API and wait for the retrieval of the results\n",
    "while True:\n",
    "    recognize_handwriting_result = computervision_client.get_read_operation_result(operation_id_local)\n",
    "    if recognize_handwriting_result.status not in ['notStarted', 'running']:\n",
    "        break\n",
    "    time.sleep(1)\n",
    "\n",
    "# Print results, line by line\n",
    "if recognize_handwriting_result.status == OperationStatusCodes.succeeded:\n",
    "    for text_result in recognize_handwriting_result.analyze_result.read_results:\n",
    "        for line in text_result.lines:\n",
    "            print(line.text)\n",
    "            print(line.bounding_box)\n",
    "print()"
   ]
  },
  {
   "cell_type": "code",
   "execution_count": null,
   "metadata": {},
   "outputs": [],
   "source": [
    "'''\n",
    "Batch Read File, recognize handwritten text - local\n",
    "This example extracts text from a handwritten local image, then prints results.\n",
    "This API call can also recognize remote image text (shown in next example, Batch Read File - remote).\n",
    "'''\n",
    "print(\"===== Batch Read File - local =====\")\n",
    "# Get image of handwriting\n",
    "local_image_handwritten_path = \"resources\\\\Ex10.jpg\"\n",
    "# Open the image\n",
    "local_image_handwritten = open(local_image_handwritten_path, \"rb\")\n",
    "\n",
    "# Call API with image and raw response (allows you to get the operation location)\n",
    "recognize_handwriting_results = computervision_client.batch_read_file_in_stream(local_image_handwritten, raw=True)\n",
    "# Get the operation location (URL with ID as last appendage)\n",
    "operation_location_local = recognize_handwriting_results.headers[\"Operation-Location\"]\n",
    "# Take the ID off and use to get results\n",
    "operation_id_local = operation_location_local.split(\"/\")[-1]\n",
    "\n",
    "# Call the \"GET\" API and wait for the retrieval of the results\n",
    "while True:\n",
    "    recognize_handwriting_result = computervision_client.get_read_operation_result(operation_id_local)\n",
    "    if recognize_handwriting_result.status not in ['notStarted', 'running']:\n",
    "        break\n",
    "    time.sleep(1)\n",
    "\n",
    "# Print results, line by line\n",
    "if recognize_handwriting_result.status == OperationStatusCodes.succeeded:\n",
    "    for text_result in recognize_handwriting_result.analyze_result.read_results:\n",
    "        for line in text_result.lines:\n",
    "            print(line.text)\n",
    "            print(line.bounding_box)\n",
    "print()\n",
    "'''\n",
    "END - Batch Read File - local\n",
    "'''\n"
   ]
  },
  {
   "cell_type": "code",
   "execution_count": 1,
   "metadata": {},
   "outputs": [],
   "source": [
    "from azure.cognitiveservices.vision.computervision import ComputerVisionClient\n",
    "from azure.cognitiveservices.vision.computervision.models import OperationStatusCodes\n",
    "from azure.cognitiveservices.vision.computervision.models import VisualFeatureTypes\n",
    "from msrest.authentication import CognitiveServicesCredentials\n",
    "\n",
    "from array import array\n",
    "import os\n",
    "from PIL import Image\n",
    "import sys\n",
    "import time"
   ]
  },
  {
   "cell_type": "code",
   "execution_count": null,
   "metadata": {},
   "outputs": [],
   "source": []
  }
 ],
 "metadata": {
  "kernelspec": {
   "display_name": "Python 3",
   "language": "python",
   "name": "python3"
  },
  "language_info": {
   "codemirror_mode": {
    "name": "ipython",
    "version": 3
   },
   "file_extension": ".py",
   "mimetype": "text/x-python",
   "name": "python",
   "nbconvert_exporter": "python",
   "pygments_lexer": "ipython3",
   "version": "3.7.3"
  }
 },
 "nbformat": 4,
 "nbformat_minor": 2
}
